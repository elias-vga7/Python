{
 "cells": [
  {
   "cell_type": "code",
   "execution_count": null,
   "metadata": {},
   "outputs": [],
   "source": [
    "# Declaración de Variables\n",
    "numero = 20\n",
    "Numero = 40\n",
    "saludo = \"Hola Mundo !!!\"\n"
   ]
  },
  {
   "cell_type": "code",
   "execution_count": null,
   "metadata": {},
   "outputs": [],
   "source": [
    "# Mostrar el contenido de las variables\n",
    "print(numero)\n",
    "print(Numero)                  # diferencia entre mayúsculas y minúsculas\n",
    "print(saludo)\n",
    "\n",
    "print(36)\n",
    "print(\"Saludos\")\n",
    "print(\"\")"
   ]
  },
  {
   "cell_type": "code",
   "execution_count": null,
   "metadata": {},
   "outputs": [],
   "source": [
    "# Mostrar el tipo de las variables\n",
    "print(type(numero))\n",
    "print(type(saludo))"
   ]
  },
  {
   "cell_type": "code",
   "execution_count": 15,
   "metadata": {},
   "outputs": [
    {
     "name": "stdout",
     "output_type": "stream",
     "text": [
      "<class 'int'>\n",
      "<class 'float'>\n",
      "<class 'str'>\n",
      "<class 'str'>\n",
      "<class 'bool'>\n",
      "<class 'tuple'>\n",
      "<class 'list'>\n",
      "<class 'set'>\n",
      "<class 'list'>\n"
     ]
    }
   ],
   "source": [
    "# Mostrar el tipo de diferentes valores utilizando la función TYPE\n",
    "print(type(3))\n",
    "print(type(3.1))\n",
    "print(type(\"3\"))\n",
    "print(type(\"tres\"))\n",
    "print(type(3==3))\n",
    "print(type(('1', '2', '3')))\n",
    "print(type([\"1\", \"2\", \"3\"]))\n",
    "print(type({\"1\", \"2\", \"3\"}))\n",
    "print(type([1, 2, 3]))"
   ]
  }
 ],
 "metadata": {
  "kernelspec": {
   "display_name": "Python 3",
   "language": "python",
   "name": "python3"
  },
  "language_info": {
   "codemirror_mode": {
    "name": "ipython",
    "version": 3
   },
   "file_extension": ".py",
   "mimetype": "text/x-python",
   "name": "python",
   "nbconvert_exporter": "python",
   "pygments_lexer": "ipython3",
   "version": "3.11.2"
  },
  "orig_nbformat": 4
 },
 "nbformat": 4,
 "nbformat_minor": 2
}
